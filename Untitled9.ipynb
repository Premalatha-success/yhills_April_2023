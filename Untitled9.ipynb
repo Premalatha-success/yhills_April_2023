{
 "cells": [
  {
   "cell_type": "markdown",
   "id": "b477c054",
   "metadata": {},
   "source": [
    "<div style=\"color:red;background-color:lime;padding:3%;border-radius:150px 150px;font-size:2em;text-align:center\">Data analysis with-LR-DT-RF-and-SVM-99.6% AUC</div>"
   ]
  },
  {
   "cell_type": "code",
   "execution_count": 102,
   "id": "42cc13fd",
   "metadata": {},
   "outputs": [],
   "source": [
    "import numpy as np\n",
    "import pandas as pd\n",
    "import matplotlib.pyplot as plt\n",
    "%matplotlib inline\n",
    "import seaborn as sns\n",
    "import warnings\n",
    "import matplotlib\n",
    "warnings.filterwarnings(\"ignore\")\n",
    "pd.set_option(\"display.max_rows\",None)\n",
    "pd.set_option(\"display.max_columns\",None)\n",
    "matplotlib.rcParams.update({'font.size': 15})"
   ]
  },
  {
   "cell_type": "code",
   "execution_count": 103,
   "id": "f97dd15a",
   "metadata": {},
   "outputs": [],
   "source": [
    "sns.set_theme(palette='tab10',\n",
    "              font='Lucida Calligraphy',\n",
    "              font_scale=1.5,\n",
    "              rc=None)\n"
   ]
  },
  {
   "cell_type": "code",
   "execution_count": 104,
   "id": "95f63ab5",
   "metadata": {},
   "outputs": [],
   "source": [
    "plt.style.use('dark_background')"
   ]
  },
  {
   "cell_type": "code",
   "execution_count": 105,
   "id": "1a2e00a4",
   "metadata": {},
   "outputs": [],
   "source": [
    "df=pd.read_csv(\"predictive_maintenance.csv\")"
   ]
  },
  {
   "cell_type": "code",
   "execution_count": 106,
   "id": "86e3eb66",
   "metadata": {},
   "outputs": [
    {
     "data": {
      "text/html": [
       "<style type=\"text/css\">\n",
       "#T_8ff72_row0_col0, #T_8ff72_row0_col1, #T_8ff72_row0_col2, #T_8ff72_row0_col3, #T_8ff72_row0_col4, #T_8ff72_row0_col5, #T_8ff72_row0_col6, #T_8ff72_row0_col7, #T_8ff72_row0_col8, #T_8ff72_row0_col9, #T_8ff72_row1_col0, #T_8ff72_row1_col1, #T_8ff72_row1_col2, #T_8ff72_row1_col3, #T_8ff72_row1_col4, #T_8ff72_row1_col5, #T_8ff72_row1_col6, #T_8ff72_row1_col7, #T_8ff72_row1_col8, #T_8ff72_row1_col9, #T_8ff72_row2_col0, #T_8ff72_row2_col1, #T_8ff72_row2_col2, #T_8ff72_row2_col3, #T_8ff72_row2_col4, #T_8ff72_row2_col5, #T_8ff72_row2_col6, #T_8ff72_row2_col7, #T_8ff72_row2_col8, #T_8ff72_row2_col9, #T_8ff72_row3_col0, #T_8ff72_row3_col1, #T_8ff72_row3_col2, #T_8ff72_row3_col3, #T_8ff72_row3_col4, #T_8ff72_row3_col5, #T_8ff72_row3_col6, #T_8ff72_row3_col7, #T_8ff72_row3_col8, #T_8ff72_row3_col9, #T_8ff72_row4_col0, #T_8ff72_row4_col1, #T_8ff72_row4_col2, #T_8ff72_row4_col3, #T_8ff72_row4_col4, #T_8ff72_row4_col5, #T_8ff72_row4_col6, #T_8ff72_row4_col7, #T_8ff72_row4_col8, #T_8ff72_row4_col9, #T_8ff72_row5_col0, #T_8ff72_row5_col1, #T_8ff72_row5_col2, #T_8ff72_row5_col3, #T_8ff72_row5_col4, #T_8ff72_row5_col5, #T_8ff72_row5_col6, #T_8ff72_row5_col7, #T_8ff72_row5_col8, #T_8ff72_row5_col9, #T_8ff72_row6_col0, #T_8ff72_row6_col1, #T_8ff72_row6_col2, #T_8ff72_row6_col3, #T_8ff72_row6_col4, #T_8ff72_row6_col5, #T_8ff72_row6_col6, #T_8ff72_row6_col7, #T_8ff72_row6_col8, #T_8ff72_row6_col9, #T_8ff72_row7_col0, #T_8ff72_row7_col1, #T_8ff72_row7_col2, #T_8ff72_row7_col3, #T_8ff72_row7_col4, #T_8ff72_row7_col5, #T_8ff72_row7_col6, #T_8ff72_row7_col7, #T_8ff72_row7_col8, #T_8ff72_row7_col9, #T_8ff72_row8_col0, #T_8ff72_row8_col1, #T_8ff72_row8_col2, #T_8ff72_row8_col3, #T_8ff72_row8_col4, #T_8ff72_row8_col5, #T_8ff72_row8_col6, #T_8ff72_row8_col7, #T_8ff72_row8_col8, #T_8ff72_row8_col9, #T_8ff72_row9_col0, #T_8ff72_row9_col1, #T_8ff72_row9_col2, #T_8ff72_row9_col3, #T_8ff72_row9_col4, #T_8ff72_row9_col5, #T_8ff72_row9_col6, #T_8ff72_row9_col7, #T_8ff72_row9_col8, #T_8ff72_row9_col9 {\n",
       "  background-color: Brown;\n",
       "  color: white;\n",
       "  border-color: White;\n",
       "}\n",
       "</style>\n",
       "<table id=\"T_8ff72\">\n",
       "  <thead>\n",
       "    <tr>\n",
       "      <th class=\"blank level0\" >&nbsp;</th>\n",
       "      <th id=\"T_8ff72_level0_col0\" class=\"col_heading level0 col0\" >UDI</th>\n",
       "      <th id=\"T_8ff72_level0_col1\" class=\"col_heading level0 col1\" >Product ID</th>\n",
       "      <th id=\"T_8ff72_level0_col2\" class=\"col_heading level0 col2\" >Type</th>\n",
       "      <th id=\"T_8ff72_level0_col3\" class=\"col_heading level0 col3\" >Air temperature [K]</th>\n",
       "      <th id=\"T_8ff72_level0_col4\" class=\"col_heading level0 col4\" >Process temperature [K]</th>\n",
       "      <th id=\"T_8ff72_level0_col5\" class=\"col_heading level0 col5\" >Rotational speed [rpm]</th>\n",
       "      <th id=\"T_8ff72_level0_col6\" class=\"col_heading level0 col6\" >Torque [Nm]</th>\n",
       "      <th id=\"T_8ff72_level0_col7\" class=\"col_heading level0 col7\" >Tool wear [min]</th>\n",
       "      <th id=\"T_8ff72_level0_col8\" class=\"col_heading level0 col8\" >Target</th>\n",
       "      <th id=\"T_8ff72_level0_col9\" class=\"col_heading level0 col9\" >Failure Type</th>\n",
       "    </tr>\n",
       "  </thead>\n",
       "  <tbody>\n",
       "    <tr>\n",
       "      <th id=\"T_8ff72_level0_row0\" class=\"row_heading level0 row0\" >8373</th>\n",
       "      <td id=\"T_8ff72_row0_col0\" class=\"data row0 col0\" >8374</td>\n",
       "      <td id=\"T_8ff72_row0_col1\" class=\"data row0 col1\" >M23233</td>\n",
       "      <td id=\"T_8ff72_row0_col2\" class=\"data row0 col2\" >M</td>\n",
       "      <td id=\"T_8ff72_row0_col3\" class=\"data row0 col3\" >298.700000</td>\n",
       "      <td id=\"T_8ff72_row0_col4\" class=\"data row0 col4\" >309.700000</td>\n",
       "      <td id=\"T_8ff72_row0_col5\" class=\"data row0 col5\" >1362</td>\n",
       "      <td id=\"T_8ff72_row0_col6\" class=\"data row0 col6\" >50.500000</td>\n",
       "      <td id=\"T_8ff72_row0_col7\" class=\"data row0 col7\" >34</td>\n",
       "      <td id=\"T_8ff72_row0_col8\" class=\"data row0 col8\" >0</td>\n",
       "      <td id=\"T_8ff72_row0_col9\" class=\"data row0 col9\" >No Failure</td>\n",
       "    </tr>\n",
       "    <tr>\n",
       "      <th id=\"T_8ff72_level0_row1\" class=\"row_heading level0 row1\" >240</th>\n",
       "      <td id=\"T_8ff72_row1_col0\" class=\"data row1 col0\" >241</td>\n",
       "      <td id=\"T_8ff72_row1_col1\" class=\"data row1 col1\" >M15100</td>\n",
       "      <td id=\"T_8ff72_row1_col2\" class=\"data row1 col2\" >M</td>\n",
       "      <td id=\"T_8ff72_row1_col3\" class=\"data row1 col3\" >298.000000</td>\n",
       "      <td id=\"T_8ff72_row1_col4\" class=\"data row1 col4\" >308.100000</td>\n",
       "      <td id=\"T_8ff72_row1_col5\" class=\"data row1 col5\" >1339</td>\n",
       "      <td id=\"T_8ff72_row1_col6\" class=\"data row1 col6\" >51.600000</td>\n",
       "      <td id=\"T_8ff72_row1_col7\" class=\"data row1 col7\" >197</td>\n",
       "      <td id=\"T_8ff72_row1_col8\" class=\"data row1 col8\" >0</td>\n",
       "      <td id=\"T_8ff72_row1_col9\" class=\"data row1 col9\" >No Failure</td>\n",
       "    </tr>\n",
       "    <tr>\n",
       "      <th id=\"T_8ff72_level0_row2\" class=\"row_heading level0 row2\" >6693</th>\n",
       "      <td id=\"T_8ff72_row2_col0\" class=\"data row2 col0\" >6694</td>\n",
       "      <td id=\"T_8ff72_row2_col1\" class=\"data row2 col1\" >M21553</td>\n",
       "      <td id=\"T_8ff72_row2_col2\" class=\"data row2 col2\" >M</td>\n",
       "      <td id=\"T_8ff72_row2_col3\" class=\"data row2 col3\" >301.800000</td>\n",
       "      <td id=\"T_8ff72_row2_col4\" class=\"data row2 col4\" >311.000000</td>\n",
       "      <td id=\"T_8ff72_row2_col5\" class=\"data row2 col5\" >1756</td>\n",
       "      <td id=\"T_8ff72_row2_col6\" class=\"data row2 col6\" >26.700000</td>\n",
       "      <td id=\"T_8ff72_row2_col7\" class=\"data row2 col7\" >33</td>\n",
       "      <td id=\"T_8ff72_row2_col8\" class=\"data row2 col8\" >0</td>\n",
       "      <td id=\"T_8ff72_row2_col9\" class=\"data row2 col9\" >No Failure</td>\n",
       "    </tr>\n",
       "    <tr>\n",
       "      <th id=\"T_8ff72_level0_row3\" class=\"row_heading level0 row3\" >3284</th>\n",
       "      <td id=\"T_8ff72_row3_col0\" class=\"data row3 col0\" >3285</td>\n",
       "      <td id=\"T_8ff72_row3_col1\" class=\"data row3 col1\" >H32698</td>\n",
       "      <td id=\"T_8ff72_row3_col2\" class=\"data row3 col2\" >H</td>\n",
       "      <td id=\"T_8ff72_row3_col3\" class=\"data row3 col3\" >301.200000</td>\n",
       "      <td id=\"T_8ff72_row3_col4\" class=\"data row3 col4\" >309.900000</td>\n",
       "      <td id=\"T_8ff72_row3_col5\" class=\"data row3 col5\" >1362</td>\n",
       "      <td id=\"T_8ff72_row3_col6\" class=\"data row3 col6\" >50.700000</td>\n",
       "      <td id=\"T_8ff72_row3_col7\" class=\"data row3 col7\" >25</td>\n",
       "      <td id=\"T_8ff72_row3_col8\" class=\"data row3 col8\" >0</td>\n",
       "      <td id=\"T_8ff72_row3_col9\" class=\"data row3 col9\" >No Failure</td>\n",
       "    </tr>\n",
       "    <tr>\n",
       "      <th id=\"T_8ff72_level0_row4\" class=\"row_heading level0 row4\" >46</th>\n",
       "      <td id=\"T_8ff72_row4_col0\" class=\"data row4 col0\" >47</td>\n",
       "      <td id=\"T_8ff72_row4_col1\" class=\"data row4 col1\" >M14906</td>\n",
       "      <td id=\"T_8ff72_row4_col2\" class=\"data row4 col2\" >M</td>\n",
       "      <td id=\"T_8ff72_row4_col3\" class=\"data row4 col3\" >298.700000</td>\n",
       "      <td id=\"T_8ff72_row4_col4\" class=\"data row4 col4\" >309.000000</td>\n",
       "      <td id=\"T_8ff72_row4_col5\" class=\"data row4 col5\" >1843</td>\n",
       "      <td id=\"T_8ff72_row4_col6\" class=\"data row4 col6\" >25.800000</td>\n",
       "      <td id=\"T_8ff72_row4_col7\" class=\"data row4 col7\" >130</td>\n",
       "      <td id=\"T_8ff72_row4_col8\" class=\"data row4 col8\" >0</td>\n",
       "      <td id=\"T_8ff72_row4_col9\" class=\"data row4 col9\" >No Failure</td>\n",
       "    </tr>\n",
       "    <tr>\n",
       "      <th id=\"T_8ff72_level0_row5\" class=\"row_heading level0 row5\" >212</th>\n",
       "      <td id=\"T_8ff72_row5_col0\" class=\"data row5 col0\" >213</td>\n",
       "      <td id=\"T_8ff72_row5_col1\" class=\"data row5 col1\" >H29626</td>\n",
       "      <td id=\"T_8ff72_row5_col2\" class=\"data row5 col2\" >H</td>\n",
       "      <td id=\"T_8ff72_row5_col3\" class=\"data row5 col3\" >298.400000</td>\n",
       "      <td id=\"T_8ff72_row5_col4\" class=\"data row5 col4\" >308.700000</td>\n",
       "      <td id=\"T_8ff72_row5_col5\" class=\"data row5 col5\" >1344</td>\n",
       "      <td id=\"T_8ff72_row5_col6\" class=\"data row5 col6\" >52.900000</td>\n",
       "      <td id=\"T_8ff72_row5_col7\" class=\"data row5 col7\" >130</td>\n",
       "      <td id=\"T_8ff72_row5_col8\" class=\"data row5 col8\" >0</td>\n",
       "      <td id=\"T_8ff72_row5_col9\" class=\"data row5 col9\" >No Failure</td>\n",
       "    </tr>\n",
       "    <tr>\n",
       "      <th id=\"T_8ff72_level0_row6\" class=\"row_heading level0 row6\" >4685</th>\n",
       "      <td id=\"T_8ff72_row6_col0\" class=\"data row6 col0\" >4686</td>\n",
       "      <td id=\"T_8ff72_row6_col1\" class=\"data row6 col1\" >M19545</td>\n",
       "      <td id=\"T_8ff72_row6_col2\" class=\"data row6 col2\" >M</td>\n",
       "      <td id=\"T_8ff72_row6_col3\" class=\"data row6 col3\" >303.600000</td>\n",
       "      <td id=\"T_8ff72_row6_col4\" class=\"data row6 col4\" >311.800000</td>\n",
       "      <td id=\"T_8ff72_row6_col5\" class=\"data row6 col5\" >1627</td>\n",
       "      <td id=\"T_8ff72_row6_col6\" class=\"data row6 col6\" >30.800000</td>\n",
       "      <td id=\"T_8ff72_row6_col7\" class=\"data row6 col7\" >104</td>\n",
       "      <td id=\"T_8ff72_row6_col8\" class=\"data row6 col8\" >0</td>\n",
       "      <td id=\"T_8ff72_row6_col9\" class=\"data row6 col9\" >No Failure</td>\n",
       "    </tr>\n",
       "    <tr>\n",
       "      <th id=\"T_8ff72_level0_row7\" class=\"row_heading level0 row7\" >8857</th>\n",
       "      <td id=\"T_8ff72_row7_col0\" class=\"data row7 col0\" >8858</td>\n",
       "      <td id=\"T_8ff72_row7_col1\" class=\"data row7 col1\" >L56037</td>\n",
       "      <td id=\"T_8ff72_row7_col2\" class=\"data row7 col2\" >L</td>\n",
       "      <td id=\"T_8ff72_row7_col3\" class=\"data row7 col3\" >297.700000</td>\n",
       "      <td id=\"T_8ff72_row7_col4\" class=\"data row7 col4\" >308.900000</td>\n",
       "      <td id=\"T_8ff72_row7_col5\" class=\"data row7 col5\" >1742</td>\n",
       "      <td id=\"T_8ff72_row7_col6\" class=\"data row7 col6\" >26.300000</td>\n",
       "      <td id=\"T_8ff72_row7_col7\" class=\"data row7 col7\" >24</td>\n",
       "      <td id=\"T_8ff72_row7_col8\" class=\"data row7 col8\" >0</td>\n",
       "      <td id=\"T_8ff72_row7_col9\" class=\"data row7 col9\" >No Failure</td>\n",
       "    </tr>\n",
       "    <tr>\n",
       "      <th id=\"T_8ff72_level0_row8\" class=\"row_heading level0 row8\" >355</th>\n",
       "      <td id=\"T_8ff72_row8_col0\" class=\"data row8 col0\" >356</td>\n",
       "      <td id=\"T_8ff72_row8_col1\" class=\"data row8 col1\" >L47535</td>\n",
       "      <td id=\"T_8ff72_row8_col2\" class=\"data row8 col2\" >L</td>\n",
       "      <td id=\"T_8ff72_row8_col3\" class=\"data row8 col3\" >297.600000</td>\n",
       "      <td id=\"T_8ff72_row8_col4\" class=\"data row8 col4\" >308.300000</td>\n",
       "      <td id=\"T_8ff72_row8_col5\" class=\"data row8 col5\" >1623</td>\n",
       "      <td id=\"T_8ff72_row8_col6\" class=\"data row8 col6\" >36.900000</td>\n",
       "      <td id=\"T_8ff72_row8_col7\" class=\"data row8 col7\" >61</td>\n",
       "      <td id=\"T_8ff72_row8_col8\" class=\"data row8 col8\" >0</td>\n",
       "      <td id=\"T_8ff72_row8_col9\" class=\"data row8 col9\" >No Failure</td>\n",
       "    </tr>\n",
       "    <tr>\n",
       "      <th id=\"T_8ff72_level0_row9\" class=\"row_heading level0 row9\" >7291</th>\n",
       "      <td id=\"T_8ff72_row9_col0\" class=\"data row9 col0\" >7292</td>\n",
       "      <td id=\"T_8ff72_row9_col1\" class=\"data row9 col1\" >L54471</td>\n",
       "      <td id=\"T_8ff72_row9_col2\" class=\"data row9 col2\" >L</td>\n",
       "      <td id=\"T_8ff72_row9_col3\" class=\"data row9 col3\" >300.200000</td>\n",
       "      <td id=\"T_8ff72_row9_col4\" class=\"data row9 col4\" >310.500000</td>\n",
       "      <td id=\"T_8ff72_row9_col5\" class=\"data row9 col5\" >1416</td>\n",
       "      <td id=\"T_8ff72_row9_col6\" class=\"data row9 col6\" >46.700000</td>\n",
       "      <td id=\"T_8ff72_row9_col7\" class=\"data row9 col7\" >90</td>\n",
       "      <td id=\"T_8ff72_row9_col8\" class=\"data row9 col8\" >0</td>\n",
       "      <td id=\"T_8ff72_row9_col9\" class=\"data row9 col9\" >No Failure</td>\n",
       "    </tr>\n",
       "  </tbody>\n",
       "</table>\n"
      ],
      "text/plain": [
       "<pandas.io.formats.style.Styler at 0x14eae8baa70>"
      ]
     },
     "execution_count": 106,
     "metadata": {},
     "output_type": "execute_result"
    }
   ],
   "source": [
    "df.sample(10).style.set_properties(\n",
    "    **{\n",
    "        'background-color': 'Brown',\n",
    "        'color': 'white',\n",
    "        'border-color': 'White'\n",
    "    })"
   ]
  },
  {
   "cell_type": "code",
   "execution_count": 107,
   "id": "adea6106",
   "metadata": {},
   "outputs": [
    {
     "data": {
      "text/plain": [
       "Index(['UDI', 'Product ID', 'Type', 'Air temperature [K]',\n",
       "       'Process temperature [K]', 'Rotational speed [rpm]', 'Torque [Nm]',\n",
       "       'Tool wear [min]', 'Target', 'Failure Type'],\n",
       "      dtype='object')"
      ]
     },
     "execution_count": 107,
     "metadata": {},
     "output_type": "execute_result"
    }
   ],
   "source": [
    "df.columns"
   ]
  },
  {
   "cell_type": "code",
   "execution_count": 108,
   "id": "d62b7f24",
   "metadata": {},
   "outputs": [],
   "source": [
    "df=df.drop([\"UDI\",\"Product ID\"],axis=1)"
   ]
  },
  {
   "cell_type": "code",
   "execution_count": 109,
   "id": "f6e176df",
   "metadata": {},
   "outputs": [
    {
     "data": {
      "text/plain": [
       "(10000, 8)"
      ]
     },
     "execution_count": 109,
     "metadata": {},
     "output_type": "execute_result"
    }
   ],
   "source": [
    "df.shape"
   ]
  },
  {
   "cell_type": "code",
   "execution_count": 110,
   "id": "0dcd1ee3",
   "metadata": {},
   "outputs": [],
   "source": [
    "## Converting temperature in centigrate from Kelvin [1 K = -273.15 °C  ] \n",
    "\n",
    "df[\"Air temperature [K]\"] = df[\"Air temperature [K]\"] - 273.15\n",
    "df[\"Process temperature [K]\"] = df[\"Process temperature [K]\"] - 273.15\n",
    "\n",
    "# Renaming temperature in Centigrate(°C) from Kelvin (K)\n",
    "df.rename(columns={\"Air temperature [K]\" : \"Air temperature [°C]\",\"Process temperature [K]\" : \"Process temperature [°C]\"},inplace=True)"
   ]
  },
  {
   "cell_type": "code",
   "execution_count": 111,
   "id": "3a2a0169",
   "metadata": {},
   "outputs": [
    {
     "data": {
      "text/html": [
       "<div>\n",
       "<style scoped>\n",
       "    .dataframe tbody tr th:only-of-type {\n",
       "        vertical-align: middle;\n",
       "    }\n",
       "\n",
       "    .dataframe tbody tr th {\n",
       "        vertical-align: top;\n",
       "    }\n",
       "\n",
       "    .dataframe thead th {\n",
       "        text-align: right;\n",
       "    }\n",
       "</style>\n",
       "<table border=\"1\" class=\"dataframe\">\n",
       "  <thead>\n",
       "    <tr style=\"text-align: right;\">\n",
       "      <th></th>\n",
       "      <th>Type</th>\n",
       "      <th>Air temperature [°C]</th>\n",
       "      <th>Process temperature [°C]</th>\n",
       "      <th>Rotational speed [rpm]</th>\n",
       "      <th>Torque [Nm]</th>\n",
       "      <th>Tool wear [min]</th>\n",
       "      <th>Target</th>\n",
       "      <th>Failure Type</th>\n",
       "      <th>Temperature difference [°C]</th>\n",
       "    </tr>\n",
       "  </thead>\n",
       "  <tbody>\n",
       "    <tr>\n",
       "      <th>1596</th>\n",
       "      <td>L</td>\n",
       "      <td>24.85</td>\n",
       "      <td>34.95</td>\n",
       "      <td>1877</td>\n",
       "      <td>24.3</td>\n",
       "      <td>0</td>\n",
       "      <td>0</td>\n",
       "      <td>No Failure</td>\n",
       "      <td>10.1</td>\n",
       "    </tr>\n",
       "    <tr>\n",
       "      <th>6313</th>\n",
       "      <td>L</td>\n",
       "      <td>27.75</td>\n",
       "      <td>37.15</td>\n",
       "      <td>1440</td>\n",
       "      <td>47.6</td>\n",
       "      <td>140</td>\n",
       "      <td>0</td>\n",
       "      <td>No Failure</td>\n",
       "      <td>9.4</td>\n",
       "    </tr>\n",
       "    <tr>\n",
       "      <th>8154</th>\n",
       "      <td>L</td>\n",
       "      <td>26.45</td>\n",
       "      <td>37.55</td>\n",
       "      <td>1393</td>\n",
       "      <td>52.1</td>\n",
       "      <td>110</td>\n",
       "      <td>0</td>\n",
       "      <td>No Failure</td>\n",
       "      <td>11.1</td>\n",
       "    </tr>\n",
       "    <tr>\n",
       "      <th>4871</th>\n",
       "      <td>L</td>\n",
       "      <td>30.55</td>\n",
       "      <td>39.25</td>\n",
       "      <td>1513</td>\n",
       "      <td>40.1</td>\n",
       "      <td>135</td>\n",
       "      <td>0</td>\n",
       "      <td>No Failure</td>\n",
       "      <td>8.7</td>\n",
       "    </tr>\n",
       "    <tr>\n",
       "      <th>1291</th>\n",
       "      <td>M</td>\n",
       "      <td>25.45</td>\n",
       "      <td>36.55</td>\n",
       "      <td>1675</td>\n",
       "      <td>28.4</td>\n",
       "      <td>115</td>\n",
       "      <td>0</td>\n",
       "      <td>No Failure</td>\n",
       "      <td>11.1</td>\n",
       "    </tr>\n",
       "  </tbody>\n",
       "</table>\n",
       "</div>"
      ],
      "text/plain": [
       "     Type  Air temperature [°C]  Process temperature [°C]  \\\n",
       "1596    L                 24.85                     34.95   \n",
       "6313    L                 27.75                     37.15   \n",
       "8154    L                 26.45                     37.55   \n",
       "4871    L                 30.55                     39.25   \n",
       "1291    M                 25.45                     36.55   \n",
       "\n",
       "      Rotational speed [rpm]  Torque [Nm]  Tool wear [min]  Target  \\\n",
       "1596                    1877         24.3                0       0   \n",
       "6313                    1440         47.6              140       0   \n",
       "8154                    1393         52.1              110       0   \n",
       "4871                    1513         40.1              135       0   \n",
       "1291                    1675         28.4              115       0   \n",
       "\n",
       "     Failure Type  Temperature difference [°C]  \n",
       "1596   No Failure                         10.1  \n",
       "6313   No Failure                          9.4  \n",
       "8154   No Failure                         11.1  \n",
       "4871   No Failure                          8.7  \n",
       "1291   No Failure                         11.1  "
      ]
     },
     "execution_count": 111,
     "metadata": {},
     "output_type": "execute_result"
    }
   ],
   "source": [
    "df[\"Temperature difference [°C]\"] = df[\"Process temperature [°C]\"] - df[\"Air temperature [°C]\"]\n",
    "df.sample(5)"
   ]
  },
  {
   "cell_type": "code",
   "execution_count": 112,
   "id": "0b13bad5",
   "metadata": {},
   "outputs": [
    {
     "data": {
      "text/plain": [
       "Type                           0\n",
       "Air temperature [°C]           0\n",
       "Process temperature [°C]       0\n",
       "Rotational speed [rpm]         0\n",
       "Torque [Nm]                    0\n",
       "Tool wear [min]                0\n",
       "Target                         0\n",
       "Failure Type                   0\n",
       "Temperature difference [°C]    0\n",
       "dtype: int64"
      ]
     },
     "execution_count": 112,
     "metadata": {},
     "output_type": "execute_result"
    }
   ],
   "source": [
    "## check for missing values\n",
    "df.isnull().sum()"
   ]
  },
  {
   "cell_type": "code",
   "execution_count": 113,
   "id": "34338014",
   "metadata": {},
   "outputs": [
    {
     "data": {
      "text/plain": [
       "Type                            object\n",
       "Air temperature [°C]           float64\n",
       "Process temperature [°C]       float64\n",
       "Rotational speed [rpm]           int64\n",
       "Torque [Nm]                    float64\n",
       "Tool wear [min]                  int64\n",
       "Target                           int64\n",
       "Failure Type                    object\n",
       "Temperature difference [°C]    float64\n",
       "dtype: object"
      ]
     },
     "execution_count": 113,
     "metadata": {},
     "output_type": "execute_result"
    }
   ],
   "source": [
    "df.dtypes"
   ]
  },
  {
   "cell_type": "code",
   "execution_count": 114,
   "id": "8ecb40d2",
   "metadata": {},
   "outputs": [
    {
     "data": {
      "text/html": [
       "<style type=\"text/css\">\n",
       "#T_b7c2b_row0_col0, #T_b7c2b_row0_col1, #T_b7c2b_row0_col2, #T_b7c2b_row0_col3, #T_b7c2b_row0_col4, #T_b7c2b_row0_col5, #T_b7c2b_row0_col6 {\n",
       "  background-color: #fcfdbf;\n",
       "  color: #000000;\n",
       "}\n",
       "#T_b7c2b_row1_col0, #T_b7c2b_row1_col1, #T_b7c2b_row1_col3, #T_b7c2b_row1_col5, #T_b7c2b_row1_col6, #T_b7c2b_row2_col0, #T_b7c2b_row2_col1, #T_b7c2b_row2_col2, #T_b7c2b_row2_col3, #T_b7c2b_row2_col5, #T_b7c2b_row2_col6, #T_b7c2b_row3_col0, #T_b7c2b_row3_col1, #T_b7c2b_row3_col3, #T_b7c2b_row3_col4, #T_b7c2b_row3_col5, #T_b7c2b_row3_col6, #T_b7c2b_row4_col0, #T_b7c2b_row4_col1, #T_b7c2b_row4_col3, #T_b7c2b_row4_col5, #T_b7c2b_row4_col6, #T_b7c2b_row5_col0, #T_b7c2b_row5_col1, #T_b7c2b_row5_col3, #T_b7c2b_row5_col5, #T_b7c2b_row5_col6, #T_b7c2b_row6_col0, #T_b7c2b_row6_col1, #T_b7c2b_row6_col5, #T_b7c2b_row6_col6, #T_b7c2b_row7_col0, #T_b7c2b_row7_col5, #T_b7c2b_row7_col6 {\n",
       "  background-color: #000004;\n",
       "  color: #f1f1f1;\n",
       "}\n",
       "#T_b7c2b_row1_col2 {\n",
       "  background-color: #21114e;\n",
       "  color: #f1f1f1;\n",
       "}\n",
       "#T_b7c2b_row1_col4, #T_b7c2b_row5_col4 {\n",
       "  background-color: #010106;\n",
       "  color: #f1f1f1;\n",
       "}\n",
       "#T_b7c2b_row2_col4, #T_b7c2b_row4_col4, #T_b7c2b_row6_col3, #T_b7c2b_row7_col1, #T_b7c2b_row7_col3 {\n",
       "  background-color: #010005;\n",
       "  color: #f1f1f1;\n",
       "}\n",
       "#T_b7c2b_row3_col2 {\n",
       "  background-color: #140e36;\n",
       "  color: #f1f1f1;\n",
       "}\n",
       "#T_b7c2b_row4_col2 {\n",
       "  background-color: #1d1147;\n",
       "  color: #f1f1f1;\n",
       "}\n",
       "#T_b7c2b_row5_col2 {\n",
       "  background-color: #20114b;\n",
       "  color: #f1f1f1;\n",
       "}\n",
       "#T_b7c2b_row6_col2 {\n",
       "  background-color: #241253;\n",
       "  color: #f1f1f1;\n",
       "}\n",
       "#T_b7c2b_row6_col4 {\n",
       "  background-color: #020109;\n",
       "  color: #f1f1f1;\n",
       "}\n",
       "#T_b7c2b_row7_col2 {\n",
       "  background-color: #5a167e;\n",
       "  color: #f1f1f1;\n",
       "}\n",
       "#T_b7c2b_row7_col4 {\n",
       "  background-color: #02020d;\n",
       "  color: #f1f1f1;\n",
       "}\n",
       "</style>\n",
       "<table id=\"T_b7c2b\">\n",
       "  <thead>\n",
       "    <tr>\n",
       "      <th class=\"blank level0\" >&nbsp;</th>\n",
       "      <th id=\"T_b7c2b_level0_col0\" class=\"col_heading level0 col0\" >Air temperature [°C]</th>\n",
       "      <th id=\"T_b7c2b_level0_col1\" class=\"col_heading level0 col1\" >Process temperature [°C]</th>\n",
       "      <th id=\"T_b7c2b_level0_col2\" class=\"col_heading level0 col2\" >Rotational speed [rpm]</th>\n",
       "      <th id=\"T_b7c2b_level0_col3\" class=\"col_heading level0 col3\" >Torque [Nm]</th>\n",
       "      <th id=\"T_b7c2b_level0_col4\" class=\"col_heading level0 col4\" >Tool wear [min]</th>\n",
       "      <th id=\"T_b7c2b_level0_col5\" class=\"col_heading level0 col5\" >Target</th>\n",
       "      <th id=\"T_b7c2b_level0_col6\" class=\"col_heading level0 col6\" >Temperature difference [°C]</th>\n",
       "    </tr>\n",
       "  </thead>\n",
       "  <tbody>\n",
       "    <tr>\n",
       "      <th id=\"T_b7c2b_level0_row0\" class=\"row_heading level0 row0\" >count</th>\n",
       "      <td id=\"T_b7c2b_row0_col0\" class=\"data row0 col0\" >10000.000000</td>\n",
       "      <td id=\"T_b7c2b_row0_col1\" class=\"data row0 col1\" >10000.000000</td>\n",
       "      <td id=\"T_b7c2b_row0_col2\" class=\"data row0 col2\" >10000.000000</td>\n",
       "      <td id=\"T_b7c2b_row0_col3\" class=\"data row0 col3\" >10000.000000</td>\n",
       "      <td id=\"T_b7c2b_row0_col4\" class=\"data row0 col4\" >10000.000000</td>\n",
       "      <td id=\"T_b7c2b_row0_col5\" class=\"data row0 col5\" >10000.000000</td>\n",
       "      <td id=\"T_b7c2b_row0_col6\" class=\"data row0 col6\" >10000.000000</td>\n",
       "    </tr>\n",
       "    <tr>\n",
       "      <th id=\"T_b7c2b_level0_row1\" class=\"row_heading level0 row1\" >mean</th>\n",
       "      <td id=\"T_b7c2b_row1_col0\" class=\"data row1 col0\" >26.854930</td>\n",
       "      <td id=\"T_b7c2b_row1_col1\" class=\"data row1 col1\" >36.855560</td>\n",
       "      <td id=\"T_b7c2b_row1_col2\" class=\"data row1 col2\" >1538.776100</td>\n",
       "      <td id=\"T_b7c2b_row1_col3\" class=\"data row1 col3\" >39.986910</td>\n",
       "      <td id=\"T_b7c2b_row1_col4\" class=\"data row1 col4\" >107.951000</td>\n",
       "      <td id=\"T_b7c2b_row1_col5\" class=\"data row1 col5\" >0.033900</td>\n",
       "      <td id=\"T_b7c2b_row1_col6\" class=\"data row1 col6\" >10.000630</td>\n",
       "    </tr>\n",
       "    <tr>\n",
       "      <th id=\"T_b7c2b_level0_row2\" class=\"row_heading level0 row2\" >std</th>\n",
       "      <td id=\"T_b7c2b_row2_col0\" class=\"data row2 col0\" >2.000259</td>\n",
       "      <td id=\"T_b7c2b_row2_col1\" class=\"data row2 col1\" >1.483734</td>\n",
       "      <td id=\"T_b7c2b_row2_col2\" class=\"data row2 col2\" >179.284096</td>\n",
       "      <td id=\"T_b7c2b_row2_col3\" class=\"data row2 col3\" >9.968934</td>\n",
       "      <td id=\"T_b7c2b_row2_col4\" class=\"data row2 col4\" >63.654147</td>\n",
       "      <td id=\"T_b7c2b_row2_col5\" class=\"data row2 col5\" >0.180981</td>\n",
       "      <td id=\"T_b7c2b_row2_col6\" class=\"data row2 col6\" >1.001094</td>\n",
       "    </tr>\n",
       "    <tr>\n",
       "      <th id=\"T_b7c2b_level0_row3\" class=\"row_heading level0 row3\" >min</th>\n",
       "      <td id=\"T_b7c2b_row3_col0\" class=\"data row3 col0\" >22.150000</td>\n",
       "      <td id=\"T_b7c2b_row3_col1\" class=\"data row3 col1\" >32.550000</td>\n",
       "      <td id=\"T_b7c2b_row3_col2\" class=\"data row3 col2\" >1168.000000</td>\n",
       "      <td id=\"T_b7c2b_row3_col3\" class=\"data row3 col3\" >3.800000</td>\n",
       "      <td id=\"T_b7c2b_row3_col4\" class=\"data row3 col4\" >0.000000</td>\n",
       "      <td id=\"T_b7c2b_row3_col5\" class=\"data row3 col5\" >0.000000</td>\n",
       "      <td id=\"T_b7c2b_row3_col6\" class=\"data row3 col6\" >7.600000</td>\n",
       "    </tr>\n",
       "    <tr>\n",
       "      <th id=\"T_b7c2b_level0_row4\" class=\"row_heading level0 row4\" >25%</th>\n",
       "      <td id=\"T_b7c2b_row4_col0\" class=\"data row4 col0\" >25.150000</td>\n",
       "      <td id=\"T_b7c2b_row4_col1\" class=\"data row4 col1\" >35.650000</td>\n",
       "      <td id=\"T_b7c2b_row4_col2\" class=\"data row4 col2\" >1423.000000</td>\n",
       "      <td id=\"T_b7c2b_row4_col3\" class=\"data row4 col3\" >33.200000</td>\n",
       "      <td id=\"T_b7c2b_row4_col4\" class=\"data row4 col4\" >53.000000</td>\n",
       "      <td id=\"T_b7c2b_row4_col5\" class=\"data row4 col5\" >0.000000</td>\n",
       "      <td id=\"T_b7c2b_row4_col6\" class=\"data row4 col6\" >9.300000</td>\n",
       "    </tr>\n",
       "    <tr>\n",
       "      <th id=\"T_b7c2b_level0_row5\" class=\"row_heading level0 row5\" >50%</th>\n",
       "      <td id=\"T_b7c2b_row5_col0\" class=\"data row5 col0\" >26.950000</td>\n",
       "      <td id=\"T_b7c2b_row5_col1\" class=\"data row5 col1\" >36.950000</td>\n",
       "      <td id=\"T_b7c2b_row5_col2\" class=\"data row5 col2\" >1503.000000</td>\n",
       "      <td id=\"T_b7c2b_row5_col3\" class=\"data row5 col3\" >40.100000</td>\n",
       "      <td id=\"T_b7c2b_row5_col4\" class=\"data row5 col4\" >108.000000</td>\n",
       "      <td id=\"T_b7c2b_row5_col5\" class=\"data row5 col5\" >0.000000</td>\n",
       "      <td id=\"T_b7c2b_row5_col6\" class=\"data row5 col6\" >9.800000</td>\n",
       "    </tr>\n",
       "    <tr>\n",
       "      <th id=\"T_b7c2b_level0_row6\" class=\"row_heading level0 row6\" >75%</th>\n",
       "      <td id=\"T_b7c2b_row6_col0\" class=\"data row6 col0\" >28.350000</td>\n",
       "      <td id=\"T_b7c2b_row6_col1\" class=\"data row6 col1\" >37.950000</td>\n",
       "      <td id=\"T_b7c2b_row6_col2\" class=\"data row6 col2\" >1612.000000</td>\n",
       "      <td id=\"T_b7c2b_row6_col3\" class=\"data row6 col3\" >46.800000</td>\n",
       "      <td id=\"T_b7c2b_row6_col4\" class=\"data row6 col4\" >162.000000</td>\n",
       "      <td id=\"T_b7c2b_row6_col5\" class=\"data row6 col5\" >0.000000</td>\n",
       "      <td id=\"T_b7c2b_row6_col6\" class=\"data row6 col6\" >11.000000</td>\n",
       "    </tr>\n",
       "    <tr>\n",
       "      <th id=\"T_b7c2b_level0_row7\" class=\"row_heading level0 row7\" >max</th>\n",
       "      <td id=\"T_b7c2b_row7_col0\" class=\"data row7 col0\" >31.350000</td>\n",
       "      <td id=\"T_b7c2b_row7_col1\" class=\"data row7 col1\" >40.650000</td>\n",
       "      <td id=\"T_b7c2b_row7_col2\" class=\"data row7 col2\" >2886.000000</td>\n",
       "      <td id=\"T_b7c2b_row7_col3\" class=\"data row7 col3\" >76.600000</td>\n",
       "      <td id=\"T_b7c2b_row7_col4\" class=\"data row7 col4\" >253.000000</td>\n",
       "      <td id=\"T_b7c2b_row7_col5\" class=\"data row7 col5\" >1.000000</td>\n",
       "      <td id=\"T_b7c2b_row7_col6\" class=\"data row7 col6\" >12.100000</td>\n",
       "    </tr>\n",
       "  </tbody>\n",
       "</table>\n"
      ],
      "text/plain": [
       "<pandas.io.formats.style.Styler at 0x14eae8bb790>"
      ]
     },
     "execution_count": 114,
     "metadata": {},
     "output_type": "execute_result"
    }
   ],
   "source": [
    "df.describe()"
   ]
  },
  {
   "cell_type": "code",
   "execution_count": 120,
   "id": "7ce10060",
   "metadata": {},
   "outputs": [
    {
     "data": {
      "text/plain": [
       "0    9661\n",
       "1     339\n",
       "Name: Target, dtype: int64"
      ]
     },
     "execution_count": 120,
     "metadata": {},
     "output_type": "execute_result"
    }
   ],
   "source": [
    "df[\"Target\"].value_counts()"
   ]
  },
  {
   "cell_type": "code",
   "execution_count": 122,
   "id": "d3714b11",
   "metadata": {},
   "outputs": [
    {
     "data": {
      "text/plain": [
       "No Failure                  9652\n",
       "Heat Dissipation Failure     112\n",
       "Power Failure                 95\n",
       "Overstrain Failure            78\n",
       "Tool Wear Failure             45\n",
       "Random Failures               18\n",
       "Name: Failure Type, dtype: int64"
      ]
     },
     "execution_count": 122,
     "metadata": {},
     "output_type": "execute_result"
    }
   ],
   "source": [
    "df[\"Failure Type\"].value_counts()"
   ]
  },
  {
   "cell_type": "code",
   "execution_count": 126,
   "id": "498749f9",
   "metadata": {},
   "outputs": [
    {
     "data": {
      "text/plain": [
       "Type                            object\n",
       "Air temperature [°C]           float64\n",
       "Process temperature [°C]       float64\n",
       "Rotational speed [rpm]           int64\n",
       "Torque [Nm]                    float64\n",
       "Tool wear [min]                  int64\n",
       "Target                           int64\n",
       "Failure Type                    object\n",
       "Temperature difference [°C]    float64\n",
       "dtype: object"
      ]
     },
     "execution_count": 126,
     "metadata": {},
     "output_type": "execute_result"
    }
   ],
   "source": [
    "df.dtypes"
   ]
  },
  {
   "cell_type": "code",
   "execution_count": 127,
   "id": "f709e12e",
   "metadata": {},
   "outputs": [],
   "source": [
    "from sklearn.preprocessing import LabelEncoder\n",
    "st=LabelEncoder()\n",
    "\n",
    "df[\"Type\"]=st.fit_transform(df[\"Type\"])"
   ]
  },
  {
   "cell_type": "code",
   "execution_count": 132,
   "id": "9e8bc6a6",
   "metadata": {},
   "outputs": [],
   "source": [
    "df[\"Failure Type\"]=st.fit_transform(df[\"Failure Type\"])"
   ]
  },
  {
   "cell_type": "code",
   "execution_count": 133,
   "id": "4c238ed4",
   "metadata": {},
   "outputs": [
    {
     "data": {
      "text/plain": [
       "Type                             int32\n",
       "Air temperature [°C]           float64\n",
       "Process temperature [°C]       float64\n",
       "Rotational speed [rpm]           int64\n",
       "Torque [Nm]                    float64\n",
       "Tool wear [min]                  int64\n",
       "Target                           int64\n",
       "Failure Type                     int32\n",
       "Temperature difference [°C]    float64\n",
       "Failre Type                      int32\n",
       "dtype: object"
      ]
     },
     "execution_count": 133,
     "metadata": {},
     "output_type": "execute_result"
    }
   ],
   "source": [
    "df.dtypes"
   ]
  },
  {
   "cell_type": "code",
   "execution_count": null,
   "id": "44a734e0",
   "metadata": {},
   "outputs": [],
   "source": []
  }
 ],
 "metadata": {
  "kernelspec": {
   "display_name": "Python 3 (ipykernel)",
   "language": "python",
   "name": "python3"
  },
  "language_info": {
   "codemirror_mode": {
    "name": "ipython",
    "version": 3
   },
   "file_extension": ".py",
   "mimetype": "text/x-python",
   "name": "python",
   "nbconvert_exporter": "python",
   "pygments_lexer": "ipython3",
   "version": "3.10.9"
  }
 },
 "nbformat": 4,
 "nbformat_minor": 5
}
